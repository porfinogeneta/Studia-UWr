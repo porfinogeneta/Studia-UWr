{
 "cells": [
  {
   "cell_type": "markdown",
   "metadata": {},
   "source": [
    "# Dynamic Programming\n",
    "\n",
    "- [ ] Longest Common Subsequence\n",
    "- [ ] Call the bank\n",
    "- [ ] Finish project report\n",
    "- [ ] Schedule doctor's appointment\n",
    "- [ ] Clean the house\n"
   ]
  }
 ],
 "metadata": {
  "language_info": {
   "name": "python"
  }
 },
 "nbformat": 4,
 "nbformat_minor": 2
}
