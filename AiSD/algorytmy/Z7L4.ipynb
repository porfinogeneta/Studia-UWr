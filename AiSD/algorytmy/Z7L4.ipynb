{
 "cells": [
  {
   "cell_type": "code",
   "execution_count": 27,
   "metadata": {},
   "outputs": [
    {
     "name": "stdout",
     "output_type": "stream",
     "text": [
      "Columns merged successfully!\n"
     ]
    }
   ],
   "source": [
    "# Define the input and output file paths\n",
    "input_file = \"/Users/szymon/Downloads/2024-09-08_ReadlangWords.txt\"\n",
    "output_file = \"/Users/szymon/Downloads/out.txt\"\n",
    "\n",
    "import re\n",
    "\n",
    "# Open the input file for reading\n",
    "with open(input_file, 'r', encoding='utf-8') as file:\n",
    "    lines = file.readlines()\n",
    "\n",
    "# Open the output file for writing\n",
    "with open(output_file, 'w', encoding='utf-8') as file:\n",
    "    # Process each line\n",
    "    for line in lines:\n",
    "        # Split the line by semicolon\n",
    "        columns = line.strip().split(';')\n",
    "        \n",
    "        # Check if the line has at least three columns\n",
    "        if len(columns) >= 3:\n",
    "            first_column = columns[0].strip()\n",
    "            second_column = columns[1].strip()\n",
    "            third_column = columns[2].strip()\n",
    "\n",
    "            # Merge the second and third columns with two break lines\n",
    "            merged_column = f\"<b>{second_column}</b> {third_column}\"\n",
    "            \n",
    "            # Write the first column and the merged result to the file\n",
    "            file.write(f\"{first_column};{merged_column}\\n\")\n",
    "\n",
    "print(\"Columns merged successfully!\")\n"
   ]
  }
 ],
 "metadata": {
  "kernelspec": {
   "display_name": "Python 3",
   "language": "python",
   "name": "python3"
  },
  "language_info": {
   "codemirror_mode": {
    "name": "ipython",
    "version": 3
   },
   "file_extension": ".py",
   "mimetype": "text/x-python",
   "name": "python",
   "nbconvert_exporter": "python",
   "pygments_lexer": "ipython3",
   "version": "3.11.7"
  }
 },
 "nbformat": 4,
 "nbformat_minor": 2
}
